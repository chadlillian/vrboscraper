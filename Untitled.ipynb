{
 "cells": [
  {
   "cell_type": "code",
   "execution_count": 1,
   "metadata": {
    "collapsed": true
   },
   "outputs": [],
   "source": [
    "import pandas as pd\n",
    "import matplotlib.pyplot as plt"
   ]
  },
  {
   "cell_type": "code",
   "execution_count": 17,
   "metadata": {
    "collapsed": true
   },
   "outputs": [],
   "source": [
    "occ = pd.DataFrame.from_csv('occupied')\n",
    "rates = pd.DataFrame.from_csv('rates')"
   ]
  },
  {
   "cell_type": "code",
   "execution_count": 30,
   "metadata": {
    "collapsed": false,
    "scrolled": true
   },
   "outputs": [],
   "source": [
    "unocc = occ.isnull()\n",
    "occupied = occ.notnull()\n",
    "a = rates[occupied].mean(1)\n",
    "b = rates[unocc].mean(1)\n",
    "c = occupied.mean(1)\n",
    "comb = pd.concat([a,b],axis=1,keys=['rate occupied','rate unoccupied'])"
   ]
  },
  {
   "cell_type": "code",
   "execution_count": 33,
   "metadata": {
    "collapsed": false,
    "scrolled": true
   },
   "outputs": [],
   "source": [
    "comb.plot()\n",
    "plt.show()"
   ]
  },
  {
   "cell_type": "code",
   "execution_count": 9,
   "metadata": {
    "collapsed": true
   },
   "outputs": [],
   "source": [
    "b.plot()\n",
    "plt.show()"
   ]
  },
  {
   "cell_type": "code",
   "execution_count": 34,
   "metadata": {
    "collapsed": false
   },
   "outputs": [],
   "source": [
    "c.plot()\n",
    "plt.show()"
   ]
  },
  {
   "cell_type": "code",
   "execution_count": 11,
   "metadata": {
    "collapsed": true
   },
   "outputs": [],
   "source": [
    "from pymongo import MongoClient"
   ]
  },
  {
   "cell_type": "code",
   "execution_count": 12,
   "metadata": {
    "collapsed": false
   },
   "outputs": [
    {
     "name": "stdout",
     "output_type": "stream",
     "text": [
      "[u'Calendar', u'Properties', u'Stats', u'system.indexes']\n"
     ]
    }
   ],
   "source": [
    "client = MongoClient()\n",
    "db = client['53odessa']\n",
    "print db.collection_names()"
   ]
  },
  {
   "cell_type": "code",
   "execution_count": 16,
   "metadata": {
    "collapsed": false
   },
   "outputs": [
    {
     "name": "stdout",
     "output_type": "stream",
     "text": [
      "{u'updated': 1465484624.850921, u'_id': u'228661'}\n",
      "{u'updated': 1465484661.621376, u'_id': u'344743'}\n",
      "{u'updated': 1465484698.39815, u'_id': u'451484'}\n",
      "{u'updated': 1465484734.465161, u'_id': u'217752'}\n",
      "{u'updated': 1465484766.655158, u'_id': u'291649'}\n",
      "{u'updated': 1465484805.768457, u'_id': u'90317'}\n",
      "{u'updated': 1465484841.887486, u'_id': u'451480'}\n",
      "{u'updated': 1465484878.165428, u'_id': u'489417'}\n",
      "{u'updated': 1465484881.53668, u'_id': u'2'}\n"
     ]
    }
   ],
   "source": [
    "cal = db['Properties'].find()\n",
    "for c in cal:\n",
    "    print c"
   ]
  },
  {
   "cell_type": "code",
   "execution_count": null,
   "metadata": {
    "collapsed": true
   },
   "outputs": [],
   "source": []
  }
 ],
 "metadata": {
  "kernelspec": {
   "display_name": "Python 2",
   "language": "python",
   "name": "python2"
  },
  "language_info": {
   "codemirror_mode": {
    "name": "ipython",
    "version": 2
   },
   "file_extension": ".py",
   "mimetype": "text/x-python",
   "name": "python",
   "nbconvert_exporter": "python",
   "pygments_lexer": "ipython2",
   "version": "2.7.11"
  }
 },
 "nbformat": 4,
 "nbformat_minor": 0
}
